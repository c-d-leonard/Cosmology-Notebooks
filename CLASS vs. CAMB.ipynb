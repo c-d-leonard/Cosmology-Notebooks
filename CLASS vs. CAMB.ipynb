{
 "cells": [
  {
   "cell_type": "markdown",
   "metadata": {},
   "source": [
    "This notebook compares TT spectra and P(k) between CLASS and CAMB, for reference spectra parameters (i.e. very high precision). \n",
    "\n",
    "Note that these plots below were generated with a CLASS input\n",
    "```\n",
    "\"k_max_tau0_over_l_max\":15.\n",
    "```\n",
    "but values of 10ish will work too."
   ]
  },
  {
   "cell_type": "code",
   "execution_count": 1,
   "metadata": {},
   "outputs": [],
   "source": [
    "%matplotlib inline\n",
    "import sys, platform, os\n",
    "from matplotlib import pyplot as plt\n",
    "import numpy as np\n",
    "# print('Using CAMB installed at %s'%(os.path.realpath(os.path.join(os.getcwd(),'..'))))\n",
    "#uncomment this if you are running remotely and want to keep in synch with repo changes\n",
    "#if platform.system()!='Windows':\n",
    "#    !cd $HOME/git/camb; git pull github master; git log -1\n",
    "sys.path.insert(0,os.path.realpath(os.path.join(os.getcwd(),'..')))\n",
    "import camb\n",
    "from camb import model, initialpower\n",
    "# print('CAMB version: %s '%camb.__version__)"
   ]
  },
  {
   "cell_type": "code",
   "execution_count": 2,
   "metadata": {},
   "outputs": [
    {
     "name": "stderr",
     "output_type": "stream",
     "text": [
      "WARNING:root:accuracy parameters are changed globally, not yet per parameter set\n"
     ]
    }
   ],
   "source": [
    "#Set up a new set of parameters for CAMB\n",
    "pars = camb.CAMBparams()\n",
    "camb.set_halofit_version('takahashi')\n",
    "#This function sets up CosmoMC-like settings, with one massive neutrino and helium set using BBN consistency\n",
    "pars.set_cosmology(H0=67.05, ombh2 = 0.02225, omch2 = 0.1198, \n",
    "                   tau=0.079, num_massive_neutrinos=0, mnu=0.0, \n",
    "                   standard_neutrino_neff=3.046)\n",
    "pars.InitPower.set_params(As=2.2065e-9, ns=0.9645)\n",
    "pars.set_for_lmax(4000, max_eta_k=12000, lens_potential_accuracy=4);\n",
    "pars.set_accuracy(AccuracyBoost=3, lAccuracyBoost=3, lSampleBoost=3, DoLateRadTruncation=False )\n",
    "pars.AccuratePolarization = True\n",
    "pars.AccurateReionization = True\n",
    "pars.YHe = 0.24\n",
    "# pars.omegan = 0.0006445\n",
    "pars.omegak = 0.\n",
    "pars.set_nonlinear_lensing(True)\n"
   ]
  },
  {
   "cell_type": "code",
   "execution_count": 3,
   "metadata": {},
   "outputs": [
    {
     "name": "stdout",
     "output_type": "stream",
     "text": [
      "total\n",
      "lens_potential\n",
      "lensed_scalar\n",
      "unlensed_scalar\n",
      "unlensed_total\n",
      "tensor\n",
      "(4042, 4)\n"
     ]
    },
    {
     "data": {
      "image/png": "[encoded data removed]",
      "text/plain": [
       "<matplotlib.figure.Figure at 0x7fc45801b950>"
      ]
     },
     "metadata": {},
     "output_type": "display_data"
    }
   ],
   "source": [
    "\n",
    "#calculate results for these parameters\n",
    "results = camb.get_results(pars)\n",
    "\n",
    "#get dictionary of CAMB power spectra\n",
    "powers =results.get_cmb_power_spectra(pars, CMB_unit='muK')\n",
    "for name in powers: print(name)\n",
    "\n",
    "#plot the total lensed CMB power spectra versus unlensed, and fractional difference\n",
    "totCL=powers['total']\n",
    "print(totCL.shape)\n",
    "#Python CL arrays are all zero based (starting at L=0), Note L=0,1 entries will be zero by default.\n",
    "#The different CL are always in the order TT, EE, BB, TE (with BB=0 for unlensed scalar results).\n",
    "ls = np.arange(totCL.shape[0])\n",
    "fig, ax = plt.subplots()\n",
    "ax.plot(ls,totCL[:,0],'k-')\n",
    "ttCAMB = totCL[:,0]\n",
    "ax.set_title('TT');"
   ]
  },
  {
   "cell_type": "code",
   "execution_count": 19,
   "metadata": {},
   "outputs": [],
   "source": [
    "from classy import Class\n",
    "\n",
    "# Define your cosmology (what is not specified will be set to CLASS default parameters)\n",
    "params = {\n",
    "    'output': 'tCl lCl mPk',\n",
    "    'l_max_scalars': 4000,\n",
    "    'lensing': 'yes',\n",
    "    'non linear': 'halofit',\n",
    "    'omega_b' : 0.02225,\n",
    "    'omega_cdm' : 0.1198,\n",
    "    'h' : 0.6705,\n",
    "    'ln10^{10}A_s' : 3.094,\n",
    "    'n_s' : 0.9645,\n",
    "    'tau_reio' : 0.079,\n",
    "    'N_eff': 3.046,\n",
    "    'YHe' : 0.24,\n",
    "    'N_ncdm' : 0,\n",
    "    'halofit_k_per_decade' : 3000.,\n",
    "    'l_switch_limber' : 40.,\n",
    "    'accurate_lensing':1,\n",
    "    'num_mu_minus_lmax' : 1000.,\n",
    "    'delta_l_max' : 1000.,\n",
    "\n",
    "    \"recfast_Nz0\":100000,\n",
    "    \"tol_thermo_integration\":1.e-5,\n",
    "    \"recfast_x_He0_trigger_delta\" : 0.01,\n",
    "    \"recfast_x_H0_trigger_delta\" : 0.01,\n",
    "    \"evolver\":0,\n",
    "    \"k_min_tau0\":0.002,\n",
    "    \"k_max_tau0_over_l_max\":10.,\n",
    "    \"k_step_sub\":0.015,\n",
    "    \"k_step_super\":0.0001,\n",
    "    \"k_step_super_reduction\":0.1,\n",
    "    \"start_small_k_at_tau_c_over_tau_h\" : 0.0004,\n",
    "    \"start_large_k_at_tau_h_over_tau_k\" : 0.05,\n",
    "    \"tight_coupling_trigger_tau_c_over_tau_h\":0.005,\n",
    "    \"tight_coupling_trigger_tau_c_over_tau_k\":0.008,\n",
    "    \"start_sources_at_tau_c_over_tau_h\" : 0.006,\n",
    "    \"l_max_g\":50,\n",
    "    \"l_max_pol_g\":25,\n",
    "    \"l_max_ur\":50,\n",
    "    \"tol_perturb_integration\":1.e-6,\n",
    "    \"perturb_sampling_stepsize\":0.01,\n",
    "    \"radiation_streaming_approximation\" : 2,\n",
    "    \"radiation_streaming_trigger_tau_over_tau_k\" : 240.,\n",
    "    \"radiation_streaming_trigger_tau_c_over_tau\" : 100.,\n",
    "    \"ur_fluid_approximation\" : 2,\n",
    "    \"ur_fluid_trigger_tau_over_tau_k\" : 50.,\n",
    "    \"ncdm_fluid_approximation\" : 3,\n",
    "    \"ncdm_fluid_trigger_tau_over_tau_k\" : 51.,\n",
    "    \"l_logstep\":1.026,\n",
    "    \"l_linstep\":25,\n",
    "    \"hyper_sampling_flat\" : 12.,\n",
    "    \"hyper_sampling_curved_low_nu\" : 10.,\n",
    "    \"hyper_sampling_curved_high_nu\" : 10.,\n",
    "    \"hyper_nu_sampling_step\" : 10.,\n",
    "    \"hyper_phi_min_abs\" : 1.e-10,\n",
    "    \"hyper_x_tol\" : 1.e-4,\n",
    "    \"hyper_flat_approximation_nu\" : 1.e6,\n",
    "    \"q_linstep\":0.20,\n",
    "    \"q_logstep_spline\": 20.,\n",
    "    \"q_logstep_trapzd\" : 0.5,\n",
    "    \"q_numstep_transition\" : 250,\n",
    "    \"transfer_neglect_delta_k_S_t0\" : 100.,\n",
    "    \"transfer_neglect_delta_k_S_t1\" : 100.,\n",
    "    \"transfer_neglect_delta_k_S_t2\" : 100.,\n",
    "    \"transfer_neglect_delta_k_S_e\" : 100.,\n",
    "    \"transfer_neglect_delta_k_V_t1\" : 100.,\n",
    "    \"transfer_neglect_delta_k_V_t2\" : 100.,\n",
    "    \"transfer_neglect_delta_k_V_e\" : 100.,\n",
    "    \"transfer_neglect_delta_k_V_b\" : 100.,\n",
    "    \"transfer_neglect_delta_k_T_t2\" : 100.,\n",
    "    \"transfer_neglect_delta_k_T_e\" : 100.,\n",
    "    \"transfer_neglect_delta_k_T_b\" : 100.,\n",
    "    \"neglect_CMB_sources_below_visibility\" : 1.e-30,\n",
    "    \"transfer_neglect_late_source\" : 3000.\n",
    "#     'm_ncdm' : 0.06\n",
    "}\n",
    "cosmo = Class()\n",
    "cosmo.set(params)\n",
    "\n",
    "cosmo.compute()\n",
    "cls = cosmo.lensed_cl(4000)\n",
    "ttCLASS = cls['ell'] * (cls['ell']+1) * cls['tt'] * (1e6 * 2.7255)**2 / (2*np.pi)\n",
    "# cosmo.struct_cleanup()\n",
    "# cosmo.empty()"
   ]
  },
  {
   "cell_type": "markdown",
   "metadata": {},
   "source": [
    "# High ell TT Comparison\n",
    "Here, we compare the CAMB and CLASS high-ell TT. Pretty good!"
   ]
  },
  {
   "cell_type": "code",
   "execution_count": 61,
   "metadata": {},
   "outputs": [
    {
     "name": "stderr",
     "output_type": "stream",
     "text": [
      "/home/zequnl/anaconda2/lib/python2.7/site-packages/ipykernel_launcher.py:1: RuntimeWarning: invalid value encountered in divide\n",
      "  \"\"\"Entry point for launching an IPython kernel.\n"
     ]
    },
    {
     "data": {
      "image/png": "[encoded data removed]",
      "text/plain": [
       "<matplotlib.figure.Figure at 0x7fc3b1494690>"
      ]
     },
     "metadata": {},
     "output_type": "display_data"
    }
   ],
   "source": [
    "plt.plot( (ttCLASS[:4001]-ttCAMB[:4001]) / ttCAMB[:4001], '-'  )\n",
    "plt.xlabel(r'$\\ell$')\n",
    "plt.ylabel(r'$\\Delta C_{\\ell}^{TT} / C_{\\ell}^{TT}$')\n",
    "plt.title('TT Comparison of CAMB and CLASS');"
   ]
  },
  {
   "cell_type": "markdown",
   "metadata": {},
   "source": [
    "# P(k) Comparison\n",
    "Next, we compare the linear P(k) and HALOFIT P(k). "
   ]
  },
  {
   "cell_type": "code",
   "execution_count": 54,
   "metadata": {},
   "outputs": [],
   "source": [
    "pars.set_matter_power(redshifts=[0.], kmax=2.0)\n",
    "pars.NonLinear = model.NonLinear_none\n",
    "results = camb.get_results(pars)\n",
    "kh, z, pk = results.get_matter_power_spectrum(minkh=1e-4, maxkh=1, npoints = 200)\n",
    "s8 = np.array(results.get_sigma8())"
   ]
  },
  {
   "cell_type": "code",
   "execution_count": 55,
   "metadata": {},
   "outputs": [],
   "source": [
    "PCLASS  = np.array([cosmo.pk_lin(ki*cosmo.h(), 0) for ki in kh]) "
   ]
  },
  {
   "cell_type": "code",
   "execution_count": 56,
   "metadata": {},
   "outputs": [
    {
     "data": {
      "text/plain": [
       "Text(0.5,1,u'LINEAR')"
      ]
     },
     "execution_count": 56,
     "metadata": {},
     "output_type": "execute_result"
    },
    {
     "data": {
      "image/png": "[encoded data removed]",
      "text/plain": [
       "<matplotlib.figure.Figure at 0x7fc3b181a410>"
      ]
     },
     "metadata": {},
     "output_type": "display_data"
    }
   ],
   "source": [
    "# plt.loglog(kh, Pmm, '-')\n",
    "plt.loglog(kh, PCLASS/(cosmo.h())**(-3), '-')\n",
    "plt.loglog(kh, pk[0,:], '-')\n",
    "plt.title('LINEAR')"
   ]
  },
  {
   "cell_type": "markdown",
   "metadata": {},
   "source": [
    "## Linear P(k) Difference"
   ]
  },
  {
   "cell_type": "code",
   "execution_count": 57,
   "metadata": {},
   "outputs": [
    {
     "data": {
      "text/plain": [
       "Text(0,0.5,u'$|\\\\Delta P(k)| / P(k)$')"
      ]
     },
     "execution_count": 57,
     "metadata": {},
     "output_type": "execute_result"
    },
    {
     "data": {
      "image/png": "[encoded data removed]",
      "text/plain": [
       "<matplotlib.figure.Figure at 0x7fc3b15e2510>"
      ]
     },
     "metadata": {},
     "output_type": "display_data"
    }
   ],
   "source": [
    "plt.loglog( kh, np.abs( (PCLASS/(cosmo.h())**(-3) - pk[0,:])/pk[0,:]   ) )\n",
    "plt.xlabel(r'$k/h$')\n",
    "plt.ylabel(r'$|\\Delta P(k)| / P(k)$')"
   ]
  },
  {
   "cell_type": "markdown",
   "metadata": {},
   "source": [
    "## Nonlinear P(k) Difference"
   ]
  },
  {
   "cell_type": "code",
   "execution_count": 58,
   "metadata": {},
   "outputs": [],
   "source": [
    "pars.NonLinear = model.NonLinear_both\n",
    "results.calc_power_spectra(pars)\n",
    "kh_nonlin, z_nonlin, pk_nonlin = results.get_matter_power_spectrum(minkh=1e-4, maxkh=1, npoints = 200)"
   ]
  },
  {
   "cell_type": "code",
   "execution_count": 59,
   "metadata": {
    "collapsed": true
   },
   "outputs": [],
   "source": [
    "PCLASS  = np.array([cosmo.pk(ki*cosmo.h(), 0) for ki in kh]) "
   ]
  },
  {
   "cell_type": "code",
   "execution_count": 60,
   "metadata": {},
   "outputs": [
    {
     "data": {
      "text/plain": [
       "Text(0,0.5,u'$|\\\\Delta P(k)| / P(k)$')"
      ]
     },
     "execution_count": 60,
     "metadata": {},
     "output_type": "execute_result"
    },
    {
     "data": {
      "image/png": "[encoded data removed]",
      "text/plain": [
       "<matplotlib.figure.Figure at 0x7fc3b1480e50>"
      ]
     },
     "metadata": {},
     "output_type": "display_data"
    }
   ],
   "source": [
    "plt.loglog( kh, np.abs( (PCLASS/(cosmo.h())**(-3) - pk_nonlin[0,:])/pk_nonlin[0,:]   ) )\n",
    "plt.xlabel(r'$k/h$')\n",
    "plt.ylabel(r'$|\\Delta P(k)| / P(k)$')"
   ]
  },
  {
   "cell_type": "code",
   "execution_count": null,
   "metadata": {},
   "outputs": [],
   "source": []
  },
  {
   "cell_type": "code",
   "execution_count": null,
   "metadata": {
    "collapsed": true
   },
   "outputs": [],
   "source": []
  }
 ],
 "metadata": {
  "kernelspec": {
   "display_name": "Python 2",
   "language": "python",
   "name": "python2"
  },
  "language_info": {
   "codemirror_mode": {
    "name": "ipython",
    "version": 2
   },
   "file_extension": ".py",
   "mimetype": "text/x-python",
   "name": "python",
   "nbconvert_exporter": "python",
   "pygments_lexer": "ipython2",
   "version": "2.7.14"
  }
 },
 "nbformat": 4,
 "nbformat_minor": 2
}
