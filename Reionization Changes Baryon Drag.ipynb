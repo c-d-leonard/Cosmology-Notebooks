{
 "cells": [
  {
   "cell_type": "code",
   "execution_count": 1,
   "metadata": {},
   "outputs": [],
   "source": [
    "from classy import Class"
   ]
  },
  {
   "cell_type": "markdown",
   "metadata": {},
   "source": [
    "## $\\tau_{\\text{reio}}$\n",
    "We demonstrate that the optical depth to reionization **does change** the sound horizon at baryon drag."
   ]
  },
  {
   "cell_type": "code",
   "execution_count": 44,
   "metadata": {},
   "outputs": [
    {
     "data": {
      "text/plain": [
       "1.427378190432131e-05"
      ]
     },
     "execution_count": 44,
     "metadata": {},
     "output_type": "execute_result"
    }
   ],
   "source": [
    "p1 = {'tau_reio' : 0.06}\n",
    "p2 = {'tau_reio' : 0.08}\n",
    "\n",
    "# add in precision parameters if you want\n",
    "precs = {'reionization_optical_depth_tol': 1e-06}\n",
    "p1.update(precs)\n",
    "p2.update(precs)\n",
    "\n",
    "c1, c2 = Class(), Class()\n",
    "c1.set(p1)\n",
    "c2.set(p2)\n",
    "c1.compute()\n",
    "c2.compute()\n",
    "\n",
    "(c2.rs_drag() - c1.rs_drag())/c2.rs_drag()"
   ]
  },
  {
   "cell_type": "markdown",
   "metadata": {},
   "source": [
    "## DMeff\n",
    "We now show that dark matter scattering **does not change** the sound horizon at photon-baryon decoupling."
   ]
  },
  {
   "cell_type": "code",
   "execution_count": 48,
   "metadata": {},
   "outputs": [
    {
     "data": {
      "text/plain": [
       "0.0"
      ]
     },
     "execution_count": 48,
     "metadata": {},
     "output_type": "execute_result"
    }
   ],
   "source": [
    "p1 = {'cc_dmeff_p' : 0.0}\n",
    "p2 = {'cc_dmeff_p' : 1e5}\n",
    "\n",
    "precs = {'omega_dmeff':0.120,\n",
    "        'omega_cdm':0.,\n",
    "        'm_dmeff':1,\n",
    "        'cc_dmeff_op':1,\n",
    "        'spin_dmeff': 0.5,\n",
    "        'cc_dmeff_n':0.,\n",
    "        'use_temperature_dmeff':'yes',\n",
    "        'use_helium_dmeff':'yes',\n",
    "        'cc_dmeff_num':1,\n",
    "        'cc_dmeff_qm2':0,\n",
    "        'tight_coupling_trigger_tau_c_over_tau_k':0.,\n",
    "        'tight_coupling_trigger_tau_c_over_tau_h':0.\n",
    "        }\n",
    "\n",
    "p1.update(precs)\n",
    "p2.update(precs)\n",
    "\n",
    "c1, c2 = Class(), Class()\n",
    "c1.set(p1)\n",
    "c2.set(p2)\n",
    "c1.compute()\n",
    "c2.compute()\n",
    "\n",
    "(c2.rs_drag() - c1.rs_drag())/c2.rs_drag()"
   ]
  },
  {
   "cell_type": "code",
   "execution_count": null,
   "metadata": {},
   "outputs": [],
   "source": []
  },
  {
   "cell_type": "code",
   "execution_count": null,
   "metadata": {},
   "outputs": [],
   "source": []
  }
 ],
 "metadata": {
  "kernelspec": {
   "display_name": "Python 2",
   "language": "python",
   "name": "python2"
  },
  "language_info": {
   "codemirror_mode": {
    "name": "ipython",
    "version": 2
   },
   "file_extension": ".py",
   "mimetype": "text/x-python",
   "name": "python",
   "nbconvert_exporter": "python",
   "pygments_lexer": "ipython2",
   "version": "2.7.14"
  }
 },
 "nbformat": 4,
 "nbformat_minor": 2
}
