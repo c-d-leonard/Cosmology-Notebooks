{
 "cells": [
  {
   "cell_type": "code",
   "execution_count": 1,
   "metadata": {},
   "outputs": [],
   "source": [
    "from __future__ import print_function\n",
    "from classy import Class"
   ]
  },
  {
   "cell_type": "markdown",
   "metadata": {},
   "source": [
    "## Tau\n",
    "We demonstrate that the optical depth to reionization **does change** the sound horizon at baryon drag."
   ]
  },
  {
   "cell_type": "code",
   "execution_count": 2,
   "metadata": {},
   "outputs": [
    {
     "name": "stdout",
     "output_type": "stream",
     "text": [
      "rs 1.42737819043e-05\n",
      "dA 0.0\n"
     ]
    }
   ],
   "source": [
    "p1 = {'tau_reio' : 0.06}\n",
    "p2 = {'tau_reio' : 0.08}\n",
    "\n",
    "# add in precision parameters if you want\n",
    "precs = {'reionization_optical_depth_tol': 1e-06}\n",
    "p1.update(precs)\n",
    "p2.update(precs)\n",
    "\n",
    "# compute cosmology with CLASS\n",
    "c1, c2 = Class(), Class()\n",
    "c1.set(p1)\n",
    "c2.set(p2)\n",
    "c1.compute()\n",
    "c2.compute()\n",
    "\n",
    "# get BAO-relevant quantities (not H_0 because we specify it)\n",
    "print('rs', (c2.rs_drag() - c1.rs_drag())/c2.rs_drag() )\n",
    "\n",
    "source_z = 0.5\n",
    "print('dA', (c2.angular_distance(source_z)-c1.angular_distance(source_z)) / \\\n",
    "              c1.angular_distance(source_z))"
   ]
  },
  {
   "cell_type": "markdown",
   "metadata": {},
   "source": [
    "# z_reio\n",
    "We demonstrate that the reionization **redshift** has no effect on BAO, to within numerical accuracy."
   ]
  },
  {
   "cell_type": "code",
   "execution_count": 3,
   "metadata": {},
   "outputs": [
    {
     "name": "stdout",
     "output_type": "stream",
     "text": [
      "rs 3.07422612003e-09\n",
      "dA 0.0\n"
     ]
    }
   ],
   "source": [
    "p1 = {'z_reio' : 0.06}\n",
    "p2 = {'z_reio' : 0.08}\n",
    "\n",
    "# add in precision parameters if you want\n",
    "precs = {'reionization_optical_depth_tol': 1e-06}\n",
    "p1.update(precs)\n",
    "p2.update(precs)\n",
    "\n",
    "# compute cosmology with CLASS\n",
    "c1, c2 = Class(), Class()\n",
    "c1.set(p1)\n",
    "c2.set(p2)\n",
    "c1.compute()\n",
    "c2.compute()\n",
    "\n",
    "# get BAO-relevant quantities (not H_0 because we specify it)\n",
    "print('rs', (c2.rs_drag() - c1.rs_drag())/c2.rs_drag() )\n",
    "\n",
    "source_z = 0.5\n",
    "print('dA', (c2.angular_distance(source_z)-c1.angular_distance(source_z)) / \\\n",
    "              c1.angular_distance(source_z))"
   ]
  },
  {
   "cell_type": "markdown",
   "metadata": {},
   "source": [
    "## DMeff\n",
    "We now show that dark matter scattering **does not change** the sound horizon at photon-baryon decoupling."
   ]
  },
  {
   "cell_type": "code",
   "execution_count": 4,
   "metadata": {},
   "outputs": [
    {
     "name": "stdout",
     "output_type": "stream",
     "text": [
      "rs 0.0\n",
      "dA 0.0\n"
     ]
    }
   ],
   "source": [
    "p1 = {'cc_dmeff_p' : 0.0}\n",
    "p2 = {'cc_dmeff_p' : 1e5}\n",
    "\n",
    "precs = {'omega_dmeff':0.120,\n",
    "        'omega_cdm':0.,\n",
    "        'm_dmeff':1,\n",
    "        'cc_dmeff_op':1,\n",
    "        'spin_dmeff': 0.5,\n",
    "        'cc_dmeff_n':0.,\n",
    "        'use_temperature_dmeff':'yes',\n",
    "        'use_helium_dmeff':'yes',\n",
    "        'cc_dmeff_num':1,\n",
    "        'cc_dmeff_qm2':0,\n",
    "        'tight_coupling_trigger_tau_c_over_tau_k':0.,\n",
    "        'tight_coupling_trigger_tau_c_over_tau_h':0.\n",
    "        }\n",
    "\n",
    "p1.update(precs)\n",
    "p2.update(precs)\n",
    "\n",
    "# compute cosmology with CLASS\n",
    "c1, c2 = Class(), Class()\n",
    "c1.set(p1)\n",
    "c2.set(p2)\n",
    "c1.compute()\n",
    "c2.compute()\n",
    "\n",
    "# get BAO-relevant quantities (not H_0 because we specify it)\n",
    "print('rs', (c2.rs_drag() - c1.rs_drag())/c2.rs_drag() )\n",
    "\n",
    "source_z = 0.5\n",
    "print('dA', (c2.angular_distance(source_z)-c1.angular_distance(source_z)) / \\\n",
    "              c1.angular_distance(source_z))"
   ]
  },
  {
   "cell_type": "code",
   "execution_count": null,
   "metadata": {},
   "outputs": [],
   "source": []
  },
  {
   "cell_type": "code",
   "execution_count": null,
   "metadata": {},
   "outputs": [],
   "source": []
  }
 ],
 "metadata": {
  "kernelspec": {
   "display_name": "Python 2",
   "language": "python",
   "name": "python2"
  },
  "language_info": {
   "codemirror_mode": {
    "name": "ipython",
    "version": 2
   },
   "file_extension": ".py",
   "mimetype": "text/x-python",
   "name": "python",
   "nbconvert_exporter": "python",
   "pygments_lexer": "ipython2",
   "version": "2.7.14"
  }
 },
 "nbformat": 4,
 "nbformat_minor": 2
}
